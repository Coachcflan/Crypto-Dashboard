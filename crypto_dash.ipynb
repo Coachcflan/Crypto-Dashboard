{
 "cells": [
  {
   "cell_type": "code",
   "execution_count": 2,
   "id": "b8000871",
   "metadata": {},
   "outputs": [],
   "source": [
    "#necessary data manipulation libraries (standard imports)\n",
    "#packages for data collection and manipulation\n",
    "import pandas as pd\n",
    "import numpy as np\n",
    "import time, datetime\n",
    "import ast\n",
    "import warnings\n",
    "import requests\n",
    "#bokeh imports (visualization) libraries\n",
    "from bokeh.io import curdoc\n",
    "from bokeh.models.widgets import AutocompleteInput\n",
    "from bokeh.models.tools import HoverTool\n",
    "from bokeh.models import ColumnDataSource, Select, DataTable, TableColumn, BasicTicker, ColorBar, LinearColorMapper, PrintfTickFormatter, ColorBar, FactorRange, CustomJS, DatePicker\n",
    "from bokeh.layouts import column, row\n",
    "from bokeh.plotting import figure, Figure, show\n",
    "#libraries necessary for natural language processing\n",
    "import texthero as hero\n",
    "from collections import defaultdict\n",
    "from gensim import corpora, models, similarities\n",
    "#coingecko API import\n",
    "from pycoingecko import CoinGeckoAPI\n",
    "warnings.filterwarnings('ignore')\n",
    "#initialize the API\n",
    "cg = CoinGeckoAPI()"
   ]
  },
  {
   "cell_type": "markdown",
   "id": "cbf668b9",
   "metadata": {},
   "source": [
    "# Read in csv files for dashboard data"
   ]
  },
  {
   "cell_type": "code",
   "execution_count": 3,
   "id": "186354cb",
   "metadata": {},
   "outputs": [],
   "source": [
    "\"\"\"\n",
    "read in csv file and clean/organize csv file data for dashboard visualizations\n",
    "This dataframe supplies close to all the data for the dashboard\n",
    "The functions/visualizations filter down and manipulate this main dataframe\n",
    "\n",
    "\"\"\"\n",
    "total_market = pd.read_csv('/Users/thesavage/Dashboard_folder/Data/top_200.csv').drop(['Unnamed: 0', 'Unnamed: 0.1'], axis = 1)\n",
    "total_market['date'] = pd.to_datetime(total_market['date'])\n",
    "total_market['tags'] = total_market['tags'].map(lambda x: ast.literal_eval(x)) #turn tags column into a list and not a string\n",
    "total_market['daily returns'] = total_market.sort_values('date').groupby('coin_id')['prices'].transform(lambda x: (x/x.shift(1)-1)) #calculate daily returns for all coins\n",
    "total_market = total_market.drop_duplicates(keep = 'first', subset = ['date', 'coin_id']).dropna()\n",
    "exploded_market = total_market.explode('tags') #melt/explode the df for the tags column\n"
   ]
  },
  {
   "cell_type": "code",
   "execution_count": 4,
   "id": "c11a4c1c",
   "metadata": {},
   "outputs": [],
   "source": [
    "\"\"\"\n",
    "read in coin desciptions csv file. this df will be used for NLP and similarity queries\n",
    "This dataframe/data will be exclusively used for the function that compares coin description semantics.\n",
    "\"\"\"\n",
    "descriptions = pd.read_csv('/Users/thesavage/Dashboard_folder/Data/descriptions.csv')\n",
    "descriptions = descriptions.drop('Unnamed: 0', axis = 1).dropna().set_index('coin_id')\n"
   ]
  },
  {
   "cell_type": "markdown",
   "id": "ff217618",
   "metadata": {},
   "source": [
    "# Defining functions for manipulation and visualization, and widgets for user interactions"
   ]
  },
  {
   "cell_type": "code",
   "execution_count": 5,
   "id": "01edb326",
   "metadata": {},
   "outputs": [],
   "source": [
    "'''\n",
    "For the dashboard we want to be able to pick a coin and gain information on that specific coin.\n",
    "-This function will take in a given coin id and filter down the main dataframe to just a dataframe for the\n",
    "specific chosen coin.\n",
    "-We will use this dataframe as a data source for future graphs, and to derive other dataframe sources\n",
    "'''\n",
    "def get_coin_data(id_):\n",
    "    market_df = total_market.set_index('date')\n",
    "    df = market_df[market_df['coin_id'] == id_]\n",
    "    df = df[['coin_id', 'prices', 'volume', 'mktcap', 'daily returns']].sort_values('date')\n",
    "    return df.dropna()\n"
   ]
  },
  {
   "cell_type": "code",
   "execution_count": 6,
   "id": "1c1d4001",
   "metadata": {},
   "outputs": [],
   "source": [
    "#Widgets used for dashboard altering\n",
    "#examples include the datepickers and the scatterplot tags dropdown menu and coin id input\n",
    "coin_ids = list(total_market['coin_id'].unique())\n",
    "coin_tags = list(exploded_market['tags'].unique())\n",
    "coin_id = AutocompleteInput(title = 'Enter coin ID here', value = 'bitcoin', completions = coin_ids)\n",
    "coin_tag = Select(title = 'Select a coin tag', value = 'Ethereum Ecosystem', options = coin_tags)\n",
    "start_date = DatePicker(title='Select start date', value='2022-01-01', min_date = str(get_coin_data(coin_id.value).index.min()), max_date = str(get_coin_data(coin_id.value).index.max()))\n",
    "end_date = DatePicker(title='Select end date', value='2022-08-08', min_date = str(get_coin_data(coin_id.value).index.min()), max_date = str(get_coin_data(coin_id.value).index.max()))\n",
    "default_start = start_date.value\n",
    "default_end = end_date.value\n",
    "\n"
   ]
  },
  {
   "cell_type": "code",
   "execution_count": 7,
   "id": "e192e98f",
   "metadata": {},
   "outputs": [],
   "source": [
    "\"\"\"\n",
    "This function will take in a scpecific coin id and create a dataframe\n",
    "of coin semantic similarities, the dataframe is sorted from the highest\n",
    "semantic similarity to the lowest.\n",
    "\"\"\"\n",
    "def nlp_df(id_):\n",
    "    nlp_df = descriptions\n",
    "    \n",
    "    #create a corpus (collection of documents)\n",
    "    corpus = nlp_df['description']\n",
    "    #clean the corpus and replace the description column with the cleaned description\n",
    "    clean_corpus = [doc.split() for doc in hero.clean(corpus)]\n",
    "    #create a word frequency dictionary\n",
    "    frequency = defaultdict(int)\n",
    "    for text in clean_corpus:\n",
    "        for token in text:\n",
    "            frequency[token] += 1\n",
    "    #process out the words that appear more than once (Tokenize)\n",
    "    texts = [\n",
    "        [token for token in text if frequency[token] > 2]\n",
    "        for text in clean_corpus\n",
    "    ]\n",
    "    \n",
    "    #Create a dictionary for distinct words in corpus\n",
    "    dictionary = corpora.Dictionary(texts)\n",
    "    #vectorize each documents using bag of words\n",
    "    bow_vectorization = [dictionary.doc2bow(doc) for doc in texts]\n",
    "    \n",
    "    #initializing models and applying to corpus\n",
    "    tfidf = models.TfidfModel(bow_vectorization)\n",
    "    corpus_tfidf = tfidf[bow_vectorization]\n",
    "    lsi = models.LsiModel(corpus_tfidf, id2word = dictionary, num_topics = 50)\n",
    "    corpus_lsi = lsi[corpus_tfidf]\n",
    "    \n",
    "    #adding the vectorized transformations from models as columns in the dataframe\n",
    "    nlp_df['description_cleaned'] = clean_corpus\n",
    "    nlp_df['tokenized'] = texts\n",
    "    nlp_df['bow_vectors'] = bow_vectorization\n",
    "    nlp_df['tfidf'] = corpus_tfidf\n",
    "    nlp_df['lsi'] = corpus_lsi\n",
    "    \n",
    "    #indexing and creating similarity queries (using lsi corpus)\n",
    "    compare_vector = nlp_df['lsi'][id_]\n",
    "    index = similarities.MatrixSimilarity(corpus_lsi)\n",
    "    similarity_score = index[compare_vector]\n",
    "    nlp_df['similarity_score'] = similarity_score\n",
    "    \n",
    "    similarity_df = nlp_df['similarity_score'].sort_values(ascending = False).to_frame().reset_index().drop(index = 0)\n",
    "    \n",
    "    return similarity_df\n",
    "    "
   ]
  },
  {
   "cell_type": "code",
   "execution_count": 28,
   "id": "46fc029f",
   "metadata": {},
   "outputs": [
    {
     "data": {
      "text/html": [
       "<div>\n",
       "<style scoped>\n",
       "    .dataframe tbody tr th:only-of-type {\n",
       "        vertical-align: middle;\n",
       "    }\n",
       "\n",
       "    .dataframe tbody tr th {\n",
       "        vertical-align: top;\n",
       "    }\n",
       "\n",
       "    .dataframe thead th {\n",
       "        text-align: right;\n",
       "    }\n",
       "</style>\n",
       "<table border=\"1\" class=\"dataframe\">\n",
       "  <thead>\n",
       "    <tr style=\"text-align: right;\">\n",
       "      <th>coin_id</th>\n",
       "      <th>date</th>\n",
       "      <th>coin_id</th>\n",
       "      <th>bitcoin</th>\n",
       "      <th>ethereum</th>\n",
       "      <th>tron</th>\n",
       "    </tr>\n",
       "  </thead>\n",
       "  <tbody>\n",
       "    <tr>\n",
       "      <th>12</th>\n",
       "      <td>2022-01-05</td>\n",
       "      <td>bitcoin</td>\n",
       "      <td>1.000000</td>\n",
       "      <td>0.890780</td>\n",
       "      <td>0.892832</td>\n",
       "    </tr>\n",
       "    <tr>\n",
       "      <th>13</th>\n",
       "      <td>2022-01-05</td>\n",
       "      <td>ethereum</td>\n",
       "      <td>0.890780</td>\n",
       "      <td>1.000000</td>\n",
       "      <td>0.948105</td>\n",
       "    </tr>\n",
       "    <tr>\n",
       "      <th>14</th>\n",
       "      <td>2022-01-05</td>\n",
       "      <td>tron</td>\n",
       "      <td>0.892832</td>\n",
       "      <td>0.948105</td>\n",
       "      <td>1.000000</td>\n",
       "    </tr>\n",
       "    <tr>\n",
       "      <th>15</th>\n",
       "      <td>2022-01-06</td>\n",
       "      <td>bitcoin</td>\n",
       "      <td>1.000000</td>\n",
       "      <td>0.755362</td>\n",
       "      <td>0.958665</td>\n",
       "    </tr>\n",
       "    <tr>\n",
       "      <th>16</th>\n",
       "      <td>2022-01-06</td>\n",
       "      <td>ethereum</td>\n",
       "      <td>0.755362</td>\n",
       "      <td>1.000000</td>\n",
       "      <td>0.779661</td>\n",
       "    </tr>\n",
       "    <tr>\n",
       "      <th>...</th>\n",
       "      <td>...</td>\n",
       "      <td>...</td>\n",
       "      <td>...</td>\n",
       "      <td>...</td>\n",
       "      <td>...</td>\n",
       "    </tr>\n",
       "    <tr>\n",
       "      <th>655</th>\n",
       "      <td>2022-08-07</td>\n",
       "      <td>ethereum</td>\n",
       "      <td>0.930076</td>\n",
       "      <td>1.000000</td>\n",
       "      <td>0.355314</td>\n",
       "    </tr>\n",
       "    <tr>\n",
       "      <th>656</th>\n",
       "      <td>2022-08-07</td>\n",
       "      <td>tron</td>\n",
       "      <td>0.288446</td>\n",
       "      <td>0.355314</td>\n",
       "      <td>1.000000</td>\n",
       "    </tr>\n",
       "    <tr>\n",
       "      <th>657</th>\n",
       "      <td>2022-08-08</td>\n",
       "      <td>bitcoin</td>\n",
       "      <td>1.000000</td>\n",
       "      <td>0.917739</td>\n",
       "      <td>0.024845</td>\n",
       "    </tr>\n",
       "    <tr>\n",
       "      <th>658</th>\n",
       "      <td>2022-08-08</td>\n",
       "      <td>ethereum</td>\n",
       "      <td>0.917739</td>\n",
       "      <td>1.000000</td>\n",
       "      <td>0.193276</td>\n",
       "    </tr>\n",
       "    <tr>\n",
       "      <th>659</th>\n",
       "      <td>2022-08-08</td>\n",
       "      <td>tron</td>\n",
       "      <td>0.024845</td>\n",
       "      <td>0.193276</td>\n",
       "      <td>1.000000</td>\n",
       "    </tr>\n",
       "  </tbody>\n",
       "</table>\n",
       "<p>648 rows × 5 columns</p>\n",
       "</div>"
      ],
      "text/plain": [
       "coin_id       date   coin_id   bitcoin  ethereum      tron\n",
       "12      2022-01-05   bitcoin  1.000000  0.890780  0.892832\n",
       "13      2022-01-05  ethereum  0.890780  1.000000  0.948105\n",
       "14      2022-01-05      tron  0.892832  0.948105  1.000000\n",
       "15      2022-01-06   bitcoin  1.000000  0.755362  0.958665\n",
       "16      2022-01-06  ethereum  0.755362  1.000000  0.779661\n",
       "..             ...       ...       ...       ...       ...\n",
       "655     2022-08-07  ethereum  0.930076  1.000000  0.355314\n",
       "656     2022-08-07      tron  0.288446  0.355314  1.000000\n",
       "657     2022-08-08   bitcoin  1.000000  0.917739  0.024845\n",
       "658     2022-08-08  ethereum  0.917739  1.000000  0.193276\n",
       "659     2022-08-08      tron  0.024845  0.193276  1.000000\n",
       "\n",
       "[648 rows x 5 columns]"
      ]
     },
     "execution_count": 28,
     "metadata": {},
     "output_type": "execute_result"
    }
   ],
   "source": [
    "'''\n",
    "This function takes in a specfic coin_id and daterange interval and returns\n",
    "a dataframe used as a bokeh source for a correlation graph. The correlation is\n",
    "a 5 day rolling correlation, that analyzes the specifieds coin correlation between the\n",
    "returns of bitcoin and ethereum.\n",
    "\n",
    "'''\n",
    "\n",
    "def rolling_corr_df(id_, start = default_start, end = default_end):\n",
    "    #Filter dataframe to the three coins (bitcoin, eth, and specified coin), and the daterange interval\n",
    "    rolling_df = total_market[(total_market['coin_id'] == 'bitcoin') | (total_market['coin_id'] == 'ethereum') | (total_market['coin_id'] == id_)][['date', 'daily returns', 'coin_id']].sort_values('date').set_index('date')[start:end]\n",
    "    #pivot results so the coin_ids have their own column and the values are the daily returns and do a 5 day rolling correlation\n",
    "    rolling_df = rolling_df.pivot(columns = 'coin_id', values = 'daily returns').rolling(5).corr()\n",
    "    #unstack\n",
    "    rolling_df = rolling_df.rename(columns = {id_ : 'id_'})['id_'].unstack().rename(columns = {id_ : 'id_'})\n",
    "    if id_ == 'bitcoin':\n",
    "        rolling_df['bitcoin'] = 1\n",
    "    elif id_ == 'ethereum':\n",
    "        rolling_df['ethereum'] = 1\n",
    "    else:\n",
    "        rolling_df = rolling_df.reset_index()\n",
    "    return rolling_df.drop_duplicates().dropna()\n"
   ]
  },
  {
   "cell_type": "code",
   "execution_count": 9,
   "id": "5b2a2ff5",
   "metadata": {},
   "outputs": [],
   "source": [
    "'''\n",
    "This function sources our data for the dashboards scatter plot\n",
    "It takes in a specific tag and filters down the dataframe to \n",
    "just the coins with that tag, and filters the datetime period to chosen interval\n",
    "The resulting dataframe includes the cumulative return, the average daily return, \n",
    "and the standard deviation for each coin in the specified time interval.\n",
    "\n",
    "'''\n",
    "def scatter_plot_df(tag, start = default_start, end = default_end):\n",
    "    tag_exclusive_df = exploded_market[(exploded_market['tags'] == tag)].set_index('date').sort_values(['date', 'coin_id'])[start:end]\n",
    "    \n",
    "    #calculates cumulative returns during current interval, if the interval is out of range, it calculates the max cumulative return\n",
    "    cumulative_rets = []\n",
    "    grouped = tag_exclusive_df.groupby('coin_id')\n",
    "    #loop through each group(coin_id) in the grouped object\n",
    "    for name, group in grouped:\n",
    "         cumulative_rets.append(group['prices'].transform(lambda x: (x/x.shift(len(group.index.unique())-1)-1))[end])\n",
    "        \n",
    "    scatter_df = pd.DataFrame()\n",
    "    scatter_df['average_returns'] = round(tag_exclusive_df[start: end].groupby('coin_id')['daily returns'].mean(), 4)\n",
    "    scatter_df['std_returns'] = round(tag_exclusive_df[start: end].groupby('coin_id')['daily returns'].std(), 4)\n",
    "    scatter_df['cumulative_return'] = cumulative_rets\n",
    "    return scatter_df\n"
   ]
  },
  {
   "cell_type": "code",
   "execution_count": 10,
   "id": "c60ba424",
   "metadata": {},
   "outputs": [],
   "source": [
    "#call function and create dataframe for coin typed into search bar widget\n",
    "data_source = get_coin_data(coin_id.value)[default_start:default_end]\n",
    "#create an interactive datasource for graphs (price, and stats table)\n",
    "source = ColumnDataSource(data = data_source)"
   ]
  },
  {
   "cell_type": "code",
   "execution_count": 11,
   "id": "dcf5e1dd",
   "metadata": {},
   "outputs": [],
   "source": [
    "#create datasource for the similarity query datatable\n",
    "similarity_source = nlp_df(coin_id.value)\n",
    "similarity_source = ColumnDataSource(data = similarity_source)\n"
   ]
  },
  {
   "cell_type": "code",
   "execution_count": 27,
   "id": "04d6c9dc",
   "metadata": {},
   "outputs": [],
   "source": [
    "#data and source for histogram (bokeh doesnt have a histogram method)\n",
    "hist, edges = np.histogram(data_source['daily returns'], density=True, bins=50) #must use numpy histogram method to get buckets\n",
    "hist_df = pd.DataFrame({'num' : hist, 'left' : edges[:-1], 'right' : edges[1:]})\n",
    "hist_df['ret_interval'] = [(round(left,3), round(right,3)) for left, right in zip(hist_df['left'], hist_df['right'])]\n",
    "hist_source = ColumnDataSource(data = hist_df)"
   ]
  },
  {
   "cell_type": "code",
   "execution_count": 28,
   "id": "68ddf85d",
   "metadata": {},
   "outputs": [],
   "source": [
    "#create datasource for rolling correlation graph\n",
    "rolling_data = rolling_corr_df(coin_id.value, default_start, default_end)\n",
    "rolling_source = ColumnDataSource(data = rolling_data)\n"
   ]
  },
  {
   "cell_type": "code",
   "execution_count": 29,
   "id": "3c9c39eb",
   "metadata": {},
   "outputs": [],
   "source": [
    "#creating data source for scatter plot\n",
    "scatter_df = scatter_plot_df(coin_tag.value)\n",
    "scatter_source = ColumnDataSource(data = scatter_df)"
   ]
  },
  {
   "cell_type": "code",
   "execution_count": 30,
   "id": "f9cd4826",
   "metadata": {},
   "outputs": [],
   "source": [
    "#crafting data and setting data source for the descriptive statistics table\n",
    "stats = data_source[['prices', 'daily returns']].describe().round(5).reset_index()\n",
    "stats_source = ColumnDataSource(data = stats)\n"
   ]
  },
  {
   "cell_type": "markdown",
   "id": "daddda06",
   "metadata": {},
   "source": [
    "# Creating interactive visualizations and datatables"
   ]
  },
  {
   "cell_type": "code",
   "execution_count": 31,
   "id": "c1103b0d",
   "metadata": {},
   "outputs": [
    {
     "data": {
      "text/html": [
       "<div style=\"display: table;\"><div style=\"display: table-row;\"><div style=\"display: table-cell;\"><b title=\"bokeh.models.renderers.GlyphRenderer\">GlyphRenderer</b>(</div><div style=\"display: table-cell;\">id&nbsp;=&nbsp;'1353', <span id=\"1356\" style=\"cursor: pointer;\">&hellip;)</span></div></div><div class=\"1355\" style=\"display: none;\"><div style=\"display: table-cell;\"></div><div style=\"display: table-cell;\">data_source&nbsp;=&nbsp;ColumnDataSource(id='1309', ...),</div></div><div class=\"1355\" style=\"display: none;\"><div style=\"display: table-cell;\"></div><div style=\"display: table-cell;\">glyph&nbsp;=&nbsp;Line(id='1351', ...),</div></div><div class=\"1355\" style=\"display: none;\"><div style=\"display: table-cell;\"></div><div style=\"display: table-cell;\">hover_glyph&nbsp;=&nbsp;None,</div></div><div class=\"1355\" style=\"display: none;\"><div style=\"display: table-cell;\"></div><div style=\"display: table-cell;\">js_event_callbacks&nbsp;=&nbsp;{},</div></div><div class=\"1355\" style=\"display: none;\"><div style=\"display: table-cell;\"></div><div style=\"display: table-cell;\">js_property_callbacks&nbsp;=&nbsp;{},</div></div><div class=\"1355\" style=\"display: none;\"><div style=\"display: table-cell;\"></div><div style=\"display: table-cell;\">level&nbsp;=&nbsp;'glyph',</div></div><div class=\"1355\" style=\"display: none;\"><div style=\"display: table-cell;\"></div><div style=\"display: table-cell;\">muted&nbsp;=&nbsp;False,</div></div><div class=\"1355\" style=\"display: none;\"><div style=\"display: table-cell;\"></div><div style=\"display: table-cell;\">muted_glyph&nbsp;=&nbsp;None,</div></div><div class=\"1355\" style=\"display: none;\"><div style=\"display: table-cell;\"></div><div style=\"display: table-cell;\">name&nbsp;=&nbsp;None,</div></div><div class=\"1355\" style=\"display: none;\"><div style=\"display: table-cell;\"></div><div style=\"display: table-cell;\">nonselection_glyph&nbsp;=&nbsp;Line(id='1352', ...),</div></div><div class=\"1355\" style=\"display: none;\"><div style=\"display: table-cell;\"></div><div style=\"display: table-cell;\">selection_glyph&nbsp;=&nbsp;None,</div></div><div class=\"1355\" style=\"display: none;\"><div style=\"display: table-cell;\"></div><div style=\"display: table-cell;\">subscribed_events&nbsp;=&nbsp;[],</div></div><div class=\"1355\" style=\"display: none;\"><div style=\"display: table-cell;\"></div><div style=\"display: table-cell;\">tags&nbsp;=&nbsp;[],</div></div><div class=\"1355\" style=\"display: none;\"><div style=\"display: table-cell;\"></div><div style=\"display: table-cell;\">view&nbsp;=&nbsp;CDSView(id='1354', ...),</div></div><div class=\"1355\" style=\"display: none;\"><div style=\"display: table-cell;\"></div><div style=\"display: table-cell;\">visible&nbsp;=&nbsp;True,</div></div><div class=\"1355\" style=\"display: none;\"><div style=\"display: table-cell;\"></div><div style=\"display: table-cell;\">x_range_name&nbsp;=&nbsp;'default',</div></div><div class=\"1355\" style=\"display: none;\"><div style=\"display: table-cell;\"></div><div style=\"display: table-cell;\">y_range_name&nbsp;=&nbsp;'default')</div></div></div>\n",
       "<script>\n",
       "(function() {\n",
       "  var expanded = false;\n",
       "  var ellipsis = document.getElementById(\"1356\");\n",
       "  ellipsis.addEventListener(\"click\", function() {\n",
       "    var rows = document.getElementsByClassName(\"1355\");\n",
       "    for (var i = 0; i < rows.length; i++) {\n",
       "      var el = rows[i];\n",
       "      el.style.display = expanded ? \"none\" : \"table-row\";\n",
       "    }\n",
       "    ellipsis.innerHTML = expanded ? \"&hellip;)\" : \"&lsaquo;&lsaquo;&lsaquo;\";\n",
       "    expanded = !expanded;\n",
       "  });\n",
       "})();\n",
       "</script>\n"
      ],
      "text/plain": [
       "GlyphRenderer(id='1353', ...)"
      ]
     },
     "execution_count": 31,
     "metadata": {},
     "output_type": "execute_result"
    }
   ],
   "source": [
    "#create price-chart\n",
    "price_chart = figure(title = (coin_id.value + \" price\").title(), height = 300, width = 700, x_axis_type = 'datetime')\n",
    "price_chart.add_tools(HoverTool(tooltips=[(\"date\",  \"@date{%F}\"),( \"price\", \"$@{prices}{0.2f}\" )],formatters={'@date': 'datetime', '@price': 'printf'}, mode = 'vline'))\n",
    "price_chart.background_fill_color=\"#f5f5f5\"\n",
    "price_chart.grid.grid_line_color=\"white\"\n",
    "price_chart.xaxis.axis_label = 'Date'\n",
    "price_chart.yaxis.axis_label = 'Price'\n",
    "price_chart.axis.axis_line_color = None\n",
    "price_chart.line(x = 'date', y = 'prices', line_width = 2, source = source)\n"
   ]
  },
  {
   "cell_type": "code",
   "execution_count": 32,
   "id": "7b9fe00d",
   "metadata": {},
   "outputs": [
    {
     "data": {
      "text/html": [
       "<div style=\"display: table;\"><div style=\"display: table-row;\"><div style=\"display: table-cell;\"><b title=\"bokeh.models.renderers.GlyphRenderer\">GlyphRenderer</b>(</div><div style=\"display: table-cell;\">id&nbsp;=&nbsp;'1395', <span id=\"1398\" style=\"cursor: pointer;\">&hellip;)</span></div></div><div class=\"1397\" style=\"display: none;\"><div style=\"display: table-cell;\"></div><div style=\"display: table-cell;\">data_source&nbsp;=&nbsp;ColumnDataSource(id='1311', ...),</div></div><div class=\"1397\" style=\"display: none;\"><div style=\"display: table-cell;\"></div><div style=\"display: table-cell;\">glyph&nbsp;=&nbsp;Quad(id='1393', ...),</div></div><div class=\"1397\" style=\"display: none;\"><div style=\"display: table-cell;\"></div><div style=\"display: table-cell;\">hover_glyph&nbsp;=&nbsp;None,</div></div><div class=\"1397\" style=\"display: none;\"><div style=\"display: table-cell;\"></div><div style=\"display: table-cell;\">js_event_callbacks&nbsp;=&nbsp;{},</div></div><div class=\"1397\" style=\"display: none;\"><div style=\"display: table-cell;\"></div><div style=\"display: table-cell;\">js_property_callbacks&nbsp;=&nbsp;{},</div></div><div class=\"1397\" style=\"display: none;\"><div style=\"display: table-cell;\"></div><div style=\"display: table-cell;\">level&nbsp;=&nbsp;'glyph',</div></div><div class=\"1397\" style=\"display: none;\"><div style=\"display: table-cell;\"></div><div style=\"display: table-cell;\">muted&nbsp;=&nbsp;False,</div></div><div class=\"1397\" style=\"display: none;\"><div style=\"display: table-cell;\"></div><div style=\"display: table-cell;\">muted_glyph&nbsp;=&nbsp;None,</div></div><div class=\"1397\" style=\"display: none;\"><div style=\"display: table-cell;\"></div><div style=\"display: table-cell;\">name&nbsp;=&nbsp;None,</div></div><div class=\"1397\" style=\"display: none;\"><div style=\"display: table-cell;\"></div><div style=\"display: table-cell;\">nonselection_glyph&nbsp;=&nbsp;Quad(id='1394', ...),</div></div><div class=\"1397\" style=\"display: none;\"><div style=\"display: table-cell;\"></div><div style=\"display: table-cell;\">selection_glyph&nbsp;=&nbsp;None,</div></div><div class=\"1397\" style=\"display: none;\"><div style=\"display: table-cell;\"></div><div style=\"display: table-cell;\">subscribed_events&nbsp;=&nbsp;[],</div></div><div class=\"1397\" style=\"display: none;\"><div style=\"display: table-cell;\"></div><div style=\"display: table-cell;\">tags&nbsp;=&nbsp;[],</div></div><div class=\"1397\" style=\"display: none;\"><div style=\"display: table-cell;\"></div><div style=\"display: table-cell;\">view&nbsp;=&nbsp;CDSView(id='1396', ...),</div></div><div class=\"1397\" style=\"display: none;\"><div style=\"display: table-cell;\"></div><div style=\"display: table-cell;\">visible&nbsp;=&nbsp;True,</div></div><div class=\"1397\" style=\"display: none;\"><div style=\"display: table-cell;\"></div><div style=\"display: table-cell;\">x_range_name&nbsp;=&nbsp;'default',</div></div><div class=\"1397\" style=\"display: none;\"><div style=\"display: table-cell;\"></div><div style=\"display: table-cell;\">y_range_name&nbsp;=&nbsp;'default')</div></div></div>\n",
       "<script>\n",
       "(function() {\n",
       "  var expanded = false;\n",
       "  var ellipsis = document.getElementById(\"1398\");\n",
       "  ellipsis.addEventListener(\"click\", function() {\n",
       "    var rows = document.getElementsByClassName(\"1397\");\n",
       "    for (var i = 0; i < rows.length; i++) {\n",
       "      var el = rows[i];\n",
       "      el.style.display = expanded ? \"none\" : \"table-row\";\n",
       "    }\n",
       "    ellipsis.innerHTML = expanded ? \"&hellip;)\" : \"&lsaquo;&lsaquo;&lsaquo;\";\n",
       "    expanded = !expanded;\n",
       "  });\n",
       "})();\n",
       "</script>\n"
      ],
      "text/plain": [
       "GlyphRenderer(id='1395', ...)"
      ]
     },
     "execution_count": 32,
     "metadata": {},
     "output_type": "execute_result"
    }
   ],
   "source": [
    "#create histogram\n",
    "histogram = figure(title = (coin_id.value + \" histogram\").title(), height = 600, width = 700)\n",
    "histogram.add_tools(HoverTool(tooltips=[( \"return_range\",  \"@ret_interval\")]))\n",
    "histogram.background_fill_color=\"#f5f5f5\"\n",
    "histogram.grid.grid_line_color=\"white\"\n",
    "histogram.xaxis.axis_label = 'Daily Returns'\n",
    "histogram.yaxis.axis_label = 'Count'\n",
    "histogram.axis.axis_line_color = None\n",
    "histogram.quad(bottom = 0, top = 'num', left = 'left', right = 'right', fill_color = '#fdbb84', line_color = 'black', source = hist_source)\n"
   ]
  },
  {
   "cell_type": "code",
   "execution_count": 33,
   "id": "23fa52d8",
   "metadata": {},
   "outputs": [],
   "source": [
    "#create plot for rolling correlation between bitcoin and ethereum\n",
    "rolling_plot = figure(title = (coin_id.value + \" return correlation vs. bitcoin and ethereum\").title(), height = 300, width = 700, x_axis_type = 'datetime')\n",
    "rolling_plot.background_fill_color=\"#f5f5f5\"\n",
    "rolling_plot.grid.grid_line_color=\"white\"\n",
    "rolling_plot.xaxis.axis_label = 'Date'\n",
    "rolling_plot.yaxis.axis_label = 'Return Correlation'\n",
    "rolling_plot.axis.axis_line_color = None\n",
    "plot1 = rolling_plot.line(x='date', y = 'bitcoin', line_width = 2, muted_alpha=0.2,legend_label = 'bitcoin', source = rolling_source)\n",
    "plot2 = rolling_plot.line(x='date', y = 'ethereum', line_width = 2 , line_color = 'green', muted_alpha=0.2,legend_label = 'ethereum', source = rolling_source)\n",
    "\n",
    "if coin_id.value == 'bitcoin':\n",
    "    rolling_plot.add_tools(HoverTool(renderers = [plot2], tooltips=[( \"date\",  \"@date{%F}\"), ( \"ethereum corr\", \"@{ethereum}{0.2f}\" ), ( \"bitcoin corr\", \"@{bitcoin}{0.2f}\" )],formatters={'@date': 'datetime', '@ethereum corr': 'printf', \"@bitcoin corr\" : 'printf'}, mode = 'vline'))\n",
    "else:\n",
    "    rolling_plot.add_tools(HoverTool(renderers = [plot1], tooltips=[( \"date\",  \"@date{%F}\"), ( \"ethereum corr\", \"@{ethereum}{0.2f}\" ), ( \"bitcoin corr\", \"@{bitcoin}{0.2f}\" )],formatters={'@date': 'datetime', '@ethereum corr': 'printf', \"@bitcoin corr\" : 'printf'}, mode = 'vline'))\n",
    "\n",
    "rolling_plot.legend.location = 'bottom_right'\n",
    "rolling_plot.legend.click_policy=\"mute\"\n",
    "\n"
   ]
  },
  {
   "cell_type": "code",
   "execution_count": 34,
   "id": "5c415f50",
   "metadata": {},
   "outputs": [
    {
     "data": {
      "text/html": [
       "<div style=\"display: table;\"><div style=\"display: table-row;\"><div style=\"display: table-cell;\"><b title=\"bokeh.models.renderers.GlyphRenderer\">GlyphRenderer</b>(</div><div style=\"display: table-cell;\">id&nbsp;=&nbsp;'1525', <span id=\"1528\" style=\"cursor: pointer;\">&hellip;)</span></div></div><div class=\"1527\" style=\"display: none;\"><div style=\"display: table-cell;\"></div><div style=\"display: table-cell;\">data_source&nbsp;=&nbsp;ColumnDataSource(id='1313', ...),</div></div><div class=\"1527\" style=\"display: none;\"><div style=\"display: table-cell;\"></div><div style=\"display: table-cell;\">glyph&nbsp;=&nbsp;Scatter(id='1523', ...),</div></div><div class=\"1527\" style=\"display: none;\"><div style=\"display: table-cell;\"></div><div style=\"display: table-cell;\">hover_glyph&nbsp;=&nbsp;None,</div></div><div class=\"1527\" style=\"display: none;\"><div style=\"display: table-cell;\"></div><div style=\"display: table-cell;\">js_event_callbacks&nbsp;=&nbsp;{},</div></div><div class=\"1527\" style=\"display: none;\"><div style=\"display: table-cell;\"></div><div style=\"display: table-cell;\">js_property_callbacks&nbsp;=&nbsp;{},</div></div><div class=\"1527\" style=\"display: none;\"><div style=\"display: table-cell;\"></div><div style=\"display: table-cell;\">level&nbsp;=&nbsp;'glyph',</div></div><div class=\"1527\" style=\"display: none;\"><div style=\"display: table-cell;\"></div><div style=\"display: table-cell;\">muted&nbsp;=&nbsp;False,</div></div><div class=\"1527\" style=\"display: none;\"><div style=\"display: table-cell;\"></div><div style=\"display: table-cell;\">muted_glyph&nbsp;=&nbsp;None,</div></div><div class=\"1527\" style=\"display: none;\"><div style=\"display: table-cell;\"></div><div style=\"display: table-cell;\">name&nbsp;=&nbsp;None,</div></div><div class=\"1527\" style=\"display: none;\"><div style=\"display: table-cell;\"></div><div style=\"display: table-cell;\">nonselection_glyph&nbsp;=&nbsp;Scatter(id='1524', ...),</div></div><div class=\"1527\" style=\"display: none;\"><div style=\"display: table-cell;\"></div><div style=\"display: table-cell;\">selection_glyph&nbsp;=&nbsp;None,</div></div><div class=\"1527\" style=\"display: none;\"><div style=\"display: table-cell;\"></div><div style=\"display: table-cell;\">subscribed_events&nbsp;=&nbsp;[],</div></div><div class=\"1527\" style=\"display: none;\"><div style=\"display: table-cell;\"></div><div style=\"display: table-cell;\">tags&nbsp;=&nbsp;[],</div></div><div class=\"1527\" style=\"display: none;\"><div style=\"display: table-cell;\"></div><div style=\"display: table-cell;\">view&nbsp;=&nbsp;CDSView(id='1526', ...),</div></div><div class=\"1527\" style=\"display: none;\"><div style=\"display: table-cell;\"></div><div style=\"display: table-cell;\">visible&nbsp;=&nbsp;True,</div></div><div class=\"1527\" style=\"display: none;\"><div style=\"display: table-cell;\"></div><div style=\"display: table-cell;\">x_range_name&nbsp;=&nbsp;'default',</div></div><div class=\"1527\" style=\"display: none;\"><div style=\"display: table-cell;\"></div><div style=\"display: table-cell;\">y_range_name&nbsp;=&nbsp;'default')</div></div></div>\n",
       "<script>\n",
       "(function() {\n",
       "  var expanded = false;\n",
       "  var ellipsis = document.getElementById(\"1528\");\n",
       "  ellipsis.addEventListener(\"click\", function() {\n",
       "    var rows = document.getElementsByClassName(\"1527\");\n",
       "    for (var i = 0; i < rows.length; i++) {\n",
       "      var el = rows[i];\n",
       "      el.style.display = expanded ? \"none\" : \"table-row\";\n",
       "    }\n",
       "    ellipsis.innerHTML = expanded ? \"&hellip;)\" : \"&lsaquo;&lsaquo;&lsaquo;\";\n",
       "    expanded = !expanded;\n",
       "  });\n",
       "})();\n",
       "</script>\n"
      ],
      "text/plain": [
       "GlyphRenderer(id='1525', ...)"
      ]
     },
     "execution_count": 34,
     "metadata": {},
     "output_type": "execute_result"
    }
   ],
   "source": [
    "#create scatter plot\n",
    "scatter_plot = figure(height = 750, width = 750)\n",
    "scatter_plot.add_tools(HoverTool(tooltips=[(\"coin_id\",  \"@coin_id\"), ( \"average daily return\", \"@{average_returns}{0.4f}\" ), ( \"return standard deviation\", \"@{std_returns}{0.2f}\" ), (\"return over time interval\", \"@{cumulative_return}{0.4f}\" )],formatters={'@coin_id': 'printf', '@return standard deviation': 'printf', \"@average daily return\" : 'printf', '@return over time interval' : 'printf'}))\n",
    "scatter_plot.background_fill_color=\"#f5f5f5\"\n",
    "scatter_plot.grid.grid_line_color=\"white\"\n",
    "scatter_plot.xaxis.axis_label = 'Coins daily returns standard deviation'\n",
    "scatter_plot.yaxis.axis_label = 'Coins average daily return'\n",
    "scatter_plot.axis.axis_line_color = None\n",
    "scatter_plot.scatter(x= 'std_returns', y = 'average_returns', source = scatter_source)\n"
   ]
  },
  {
   "cell_type": "code",
   "execution_count": 35,
   "id": "9f1caee0",
   "metadata": {},
   "outputs": [],
   "source": [
    "#create semantics similarity query datatable\n",
    "columns = [\n",
    "        TableColumn(field = \"coin_id\", title = \"coin_id\"),\n",
    "        TableColumn(field = \"similarity_score\", title = \"Similarity Score\"),\n",
    "    ]\n",
    "similarity_table = DataTable(source = similarity_source, columns=columns, width=250, height=775)\n",
    "\n"
   ]
  },
  {
   "cell_type": "code",
   "execution_count": 36,
   "id": "a6cf9cba",
   "metadata": {},
   "outputs": [],
   "source": [
    "#create describe datatable\n",
    "stats_columns = [\n",
    "                \n",
    "                TableColumn(field = 'index', title = \"Stats\"),\n",
    "                TableColumn(field = 'prices', title = \"Prices\"),\n",
    "                TableColumn(field = 'daily returns', title = \"Returns\")\n",
    "                 \n",
    "                 ] \n",
    "stats_table = DataTable(source = stats_source, columns = stats_columns, width = 500, height = 200, index_position = None)"
   ]
  },
  {
   "cell_type": "markdown",
   "id": "247e2736",
   "metadata": {},
   "source": [
    "# Creating dashboard updates and callbacks"
   ]
  },
  {
   "cell_type": "code",
   "execution_count": 37,
   "id": "82032298",
   "metadata": {},
   "outputs": [],
   "source": [
    "'''\n",
    "The update_dash and update_scatter functions are used alongside (go hand and hand)\n",
    "with the bokeh on_change method. The on_change method in the dashboards enviroment changes the value\n",
    "of the dashboards' widgets. What the functions do is when a value of a widget is altered\n",
    "the function updates the datasources for the plots and datatables with the new\n",
    "selected values' data.\n",
    "'''\n",
    "def update_dash():\n",
    "    id_ = coin_id.value\n",
    "    coin_df = get_coin_data(id_)\n",
    "    coin_df = coin_df[start_date.value : end_date.value]\n",
    "    source.data = coin_df\n",
    "    stats_source.data = round(coin_df[['prices', 'daily returns']].describe().reset_index(), 2)\n",
    "    rolling_df = rolling_corr_df(id_, start = start_date.value, end = end_date.value)\n",
    "    rolling_source.data = rolling_df\n",
    "    hist, edges = np.histogram(coin_df['daily returns'], density=True, bins=50)\n",
    "    hist_df = pd.DataFrame({'num' : hist, 'left' : edges[:-1], 'right' : edges[1:]})\n",
    "    hist_df['ret_interval'] = [(round(left,3), round(right,3)) for left, right in zip(hist_df['left'], hist_df['right'])]\n",
    "    hist_source.data = hist_df\n",
    "    similarity_df = nlp_df(id_)\n",
    "    similarity_source.data = similarity_df\n",
    "    price_chart.title.text = (id_ + ' price').title() \n",
    "    rolling_plot.title.text = (id_ + \" correlation vs. bitcoin and ethereum\").title()\n",
    "    histogram.title.text = (id_ + \" histogram\").title()\n",
    "    \n",
    "def update_scatter():\n",
    "    id_ = coin_id.value\n",
    "    tag = coin_tag.value\n",
    "    scatter_df = scatter_plot_df(tag, start = start_date.value, end = end_date.value)\n",
    "    scatter_source.data = scatter_df\n",
    "    \n",
    "'''\n",
    "These last four functions run along side and are a specific parameter for bokehs \n",
    "on_change method. What they do is when the on_change method is called they run,\n",
    "and switch the widgets value options. Through these functions the update dashboard \n",
    "and scatter functions are also ran. You MUST use these functions alongside the on_change\n",
    "method.\n",
    "\n",
    "\n",
    "'''\n",
    "\n",
    "def coin_id_change(attrname, old, new):\n",
    "    coin_id.completions = coin_ids #changes option choices\n",
    "    update_dash()\n",
    "    \n",
    "def tag_change(attrname, old, new):\n",
    "    coin_tag.options = coin_tags #changes option choices\n",
    "    update_scatter()\n",
    "\n",
    "def date_change_1(attrname, old, new):\n",
    "    update_dash()\n",
    "    update_scatter()\n",
    "    \n",
    "def date_change_2(attrname, old, new):\n",
    "    update_dash()\n",
    "    update_scatter()\n",
    "    \n",
    "coin_id.on_change('value', coin_id_change)\n",
    "coin_tag.on_change('value', tag_change)\n",
    "start_date.on_change('value', date_change_1)\n",
    "end_date.on_change('value', date_change_2)\n"
   ]
  },
  {
   "cell_type": "markdown",
   "id": "ce8c0143",
   "metadata": {},
   "source": [
    "# Creating layout for dashbaord"
   ]
  },
  {
   "cell_type": "code",
   "execution_count": 38,
   "id": "db0b94e1",
   "metadata": {},
   "outputs": [],
   "source": [
    "#Create a layout for the dashboard\n",
    "col1 = column(coin_id, start_date, end_date, price_chart,rolling_plot)\n",
    "col2 = column(stats_table, histogram)\n",
    "col3 = column(coin_tag, scatter_plot)\n",
    "layout = row(col1,col2, col3, similarity_table)\n"
   ]
  },
  {
   "cell_type": "code",
   "execution_count": 39,
   "id": "9e9a3501",
   "metadata": {},
   "outputs": [],
   "source": [
    "#create a bokeh server and add our layout/dashboard to it.\n",
    "curdoc().add_root(layout)\n",
    "curdoc().title = 'Cryptocurrency Dashboard'"
   ]
  },
  {
   "cell_type": "markdown",
   "id": "016dd1a5",
   "metadata": {},
   "source": [
    "# bokeh serve --show {name of notebook.ipynb}\n"
   ]
  },
  {
   "cell_type": "code",
   "execution_count": null,
   "id": "62d1d984",
   "metadata": {},
   "outputs": [],
   "source": []
  }
 ],
 "metadata": {
  "kernelspec": {
   "display_name": "Python 3",
   "language": "python",
   "name": "python3"
  },
  "language_info": {
   "codemirror_mode": {
    "name": "ipython",
    "version": 3
   },
   "file_extension": ".py",
   "mimetype": "text/x-python",
   "name": "python",
   "nbconvert_exporter": "python",
   "pygments_lexer": "ipython3",
   "version": "3.8.3"
  }
 },
 "nbformat": 4,
 "nbformat_minor": 5
}
